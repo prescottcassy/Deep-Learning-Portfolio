{
 "cells": [
  {
   "cell_type": "markdown",
   "id": "f1e32e4c-b620-47f1-b373-43cc841e4e75",
   "metadata": {},
   "source": [
    "# Gradient Descent"
   ]
  },
  {
   "attachments": {},
   "cell_type": "markdown",
   "id": "a8c21053-d698-4ccb-bd8c-9361e2082a55",
   "metadata": {},
   "source": [
    "## What is AI?\n",
    "\n",
    "AI stands for Artificial Intelligence. It's how computers and apps learn to think and solve problems like people do.\n",
    "Imagine you want to ask your mom for money—but she says, \"Did you do your chores?\" Oops! You forgot.\n",
    "With AI on your phone, you can set fun reminders, so you finish your chores on time and get your money faster. Pretty smart, right?\n",
    "\n"
   ]
  },
  {
   "cell_type": "markdown",
   "id": "4891286a-b827-471e-b605-04fa3afd7606",
   "metadata": {},
   "source": [
    "## How AI got smarter?\n",
    "### Old School Computers:\n",
    "They followed exact instructions called code. Nothing fancy—just doing what they were told.\n",
    "\n",
    "### Machine Learning (ML):\n",
    "ML helps computers learn from examples—like a student practicing math problem until they get better.\n"
   ]
  },
  {
   "cell_type": "markdown",
   "id": "851617e1-00d8-4b0d-b79b-ac2b0188d0f7",
   "metadata": {},
   "source": [
    "### Deep Learning:\n",
    "This is super-powered ML! It uses artificial neurons—tiny programs inspired by the human brain. When you connect lots of these neurons together, it forms a neural network.\n",
    "\n",
    "### Neural Networks:\n",
    "Think of it like a team of mini brains working together to recognize patterns—like faces in photos or voices in videos.\n"
   ]
  },
  {
   "cell_type": "markdown",
   "id": "00d4ce79-f899-4a80-8f38-75df59f75000",
   "metadata": {},
   "source": [
    "## Gradient Descent\n",
    "Gradients show how deep a value that has no direction is. A gradient descent is like a clue that tells a computer how to get better at something—like solving a puzzle.\n",
    "But instead of pointing in a direction, it shows how big or small a change is. Think of it like measuring how steep a hill is, not which way to walk.\n",
    "\n",
    "Gradient descent is a tool used in deep learning for optimization, or to make the model perform better. \n"
   ]
  },
  {
   "cell_type": "markdown",
   "id": "d80f7007-9167-4274-8345-5a69a55b5378",
   "metadata": {},
   "source": [
    "## References \n",
    "Ekman, Magnus. Learning Deep Learning: Theory and Practice of Neural Networks, Computer Vision, Nlp, and Transformers Using Tensorflow. \n",
    "    Addison-Wesley Professional, 2021.\n",
    "\n",
    "Zhang, Aston, et al. Dive Into Deep Learning. 2023."
   ]
  },
  {
   "cell_type": "code",
   "execution_count": null,
   "id": "da19a80f-ef25-4202-8607-5d12177cfafd",
   "metadata": {},
   "outputs": [],
   "source": []
  }
 ],
 "metadata": {
  "kernelspec": {
   "display_name": "Python [conda env:base] *",
   "language": "python",
   "name": "conda-base-py"
  },
  "language_info": {
   "codemirror_mode": {
    "name": "ipython",
    "version": 3
   },
   "file_extension": ".py",
   "mimetype": "text/x-python",
   "name": "python",
   "nbconvert_exporter": "python",
   "pygments_lexer": "ipython3",
   "version": "3.12.7"
  }
 },
 "nbformat": 4,
 "nbformat_minor": 5
}
